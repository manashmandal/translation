{
 "cells": [
  {
   "cell_type": "markdown",
   "metadata": {
    "toc": true
   },
   "source": [
    "<h1>Table of Contents<span class=\"tocSkip\"></span></h1>\n",
    "<div class=\"toc\"><ul class=\"toc-item\"></ul></div>"
   ]
  },
  {
   "cell_type": "code",
   "execution_count": 3,
   "metadata": {
    "ExecuteTime": {
     "end_time": "2020-04-28T12:15:30.418542Z",
     "start_time": "2020-04-28T12:15:28.710591Z"
    }
   },
   "outputs": [],
   "source": [
    "import os # for google\n",
    "import requests # google translation\n",
    "import googleapiclient.discovery # google translation\n",
    "from google.cloud import translate_v2 as translate # google translatiom\n",
    "import pandas as pd # use pandas\n",
    "os.environ['GOOGLE_APPLICATION_CREDENTIALS'] = r\"emotionalIntelAccessKey.json\" # secret json file\n",
    "\n",
    "translate_client = translate.Client() # google client for translation\n",
    "\n",
    "\n",
    "comment = pd.read_excel('what_is_love.xlsx') # loading as DataFrame\n",
    "\n",
    "\n",
    "\n",
    "def translate_bangla_english(comment_input):\n",
    "    '''Translate bangla to english'''\n",
    "    \n",
    "    bangla_to_english = [translate_client.translate(row) for row in comment.iterrows()] # translate df from bangla to english\n",
    "    \n",
    "    return bangla_to_english \n",
    "\n",
    "result_bangla_english = translate_bangla_english(comment)\n",
    "\n",
    "#pd.DataFrame(result_bangla_english).to_excel('song_once_bangla_english_translated.xlsx') # export as csv\n",
    "#result_bangla_english = pd.read_excel('song_once_teacher_translated.xlsx', index_col=0)"
   ]
  },
  {
   "cell_type": "code",
   "execution_count": null,
   "metadata": {},
   "outputs": [],
   "source": []
  }
 ],
 "metadata": {
  "kernelspec": {
   "display_name": "Python 3",
   "language": "python",
   "name": "python3"
  },
  "language_info": {
   "codemirror_mode": {
    "name": "ipython",
    "version": 3
   },
   "file_extension": ".py",
   "mimetype": "text/x-python",
   "name": "python",
   "nbconvert_exporter": "python",
   "pygments_lexer": "ipython3",
   "version": "3.7.4"
  },
  "toc": {
   "base_numbering": 1,
   "nav_menu": {},
   "number_sections": true,
   "sideBar": true,
   "skip_h1_title": false,
   "title_cell": "Table of Contents",
   "title_sidebar": "Contents",
   "toc_cell": true,
   "toc_position": {},
   "toc_section_display": true,
   "toc_window_display": false
  },
  "varInspector": {
   "cols": {
    "lenName": 16,
    "lenType": 16,
    "lenVar": 40
   },
   "kernels_config": {
    "python": {
     "delete_cmd_postfix": "",
     "delete_cmd_prefix": "del ",
     "library": "var_list.py",
     "varRefreshCmd": "print(var_dic_list())"
    },
    "r": {
     "delete_cmd_postfix": ") ",
     "delete_cmd_prefix": "rm(",
     "library": "var_list.r",
     "varRefreshCmd": "cat(var_dic_list()) "
    }
   },
   "types_to_exclude": [
    "module",
    "function",
    "builtin_function_or_method",
    "instance",
    "_Feature"
   ],
   "window_display": false
  }
 },
 "nbformat": 4,
 "nbformat_minor": 2
}
